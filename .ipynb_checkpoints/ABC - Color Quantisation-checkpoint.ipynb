{
 "cells": [
  {
   "cell_type": "code",
   "execution_count": 1,
   "id": "92f939e6",
   "metadata": {},
   "outputs": [],
   "source": [
    "import numpy as np \n",
    "from sklearn.cluster import KMeans\n",
    "from xmlrpc.client import MAXINT\n",
    "from PIL import Image\n",
    "from matplotlib import pyplot as plt"
   ]
  },
  {
   "cell_type": "code",
   "execution_count": 2,
   "id": "84ce029c",
   "metadata": {},
   "outputs": [],
   "source": [
    "png_image = Image.open(\"./Test1.png\")"
   ]
  },
  {
   "cell_type": "code",
   "execution_count": 3,
   "id": "5b94b5d0",
   "metadata": {},
   "outputs": [],
   "source": [
    "image = np.asarray(png_image) # Numpy array of the image\n",
    "height = image.shape[0]\n",
    "width = image.shape[1]\n",
    "\n",
    "image = np.delete(image, 3, 2) # Deleteing the alpha value column\n",
    "\n",
    "image = image.reshape(height*width, 3)/255"
   ]
  },
  {
   "cell_type": "markdown",
   "id": "a69f73d5",
   "metadata": {},
   "source": [
    "## Defining the Class for a FoodSource"
   ]
  },
  {
   "cell_type": "code",
   "execution_count": 4,
   "id": "f5e8ada9",
   "metadata": {},
   "outputs": [],
   "source": [
    "class FoodSource:\n",
    "    clusters = None\n",
    "    trials = None\n",
    "    preds = None\n",
    "    fitnessValue = None\n",
    "\n",
    "    def fitness(self, imageData):\n",
    "        value = 0\n",
    "        for index, pixel in enumerate(imageData):\n",
    "            cluster = self.preds[index]\n",
    "            value = value + np.sum((self.clusters[cluster] - pixel)**2)\n",
    "\n",
    "        return 1/(1 + value)\n",
    "\n",
    "    def reconstruct(self):\n",
    "        newImage = np.asarray([self.clusters[i] for i in self.preds])\n",
    "        newImage = newImage.reshape(height, width, 3)\n",
    "\n",
    "        return newImage\n",
    "    \n",
    "    def predict(self, imageData):\n",
    "        self.preds = []\n",
    "        for index in range(imageData.shape[0]):\n",
    "            pixel = imageData[index]\n",
    "            predPixel = []\n",
    "            \n",
    "            for cluster in self.clusters:\n",
    "                value = np.sum((cluster - pixel)**2)\n",
    "                predPixel.append(value)\n",
    "                \n",
    "            indCluster = np.argmin(predPixel)\n",
    "            self.preds.append(indCluster)\n",
    "        \n",
    "        return self.preds\n",
    "    \n",
    "    def error(self):\n",
    "        return (1 / self.fitnessValue) - 1"
   ]
  },
  {
   "cell_type": "markdown",
   "id": "93fd3c2a",
   "metadata": {},
   "source": [
    "## Parameters of the Algorithm"
   ]
  },
  {
   "cell_type": "code",
   "execution_count": 5,
   "id": "7d6c2dbf",
   "metadata": {},
   "outputs": [],
   "source": [
    "nPop = 20\n",
    "nfoodSources = nPop // 2\n",
    "nClusters = 8\n",
    "pKmeans = 0.3\n",
    "limit = 5\n",
    "\n",
    "maxEpochs = 20"
   ]
  },
  {
   "cell_type": "markdown",
   "id": "f1c3ef2f",
   "metadata": {},
   "source": [
    "## Randomly initialising food sources"
   ]
  },
  {
   "cell_type": "code",
   "execution_count": 6,
   "id": "f2d29fc3",
   "metadata": {},
   "outputs": [],
   "source": [
    "# Definfing all the Food Sources\n",
    "foodSources = []\n",
    "for index in range(nfoodSources):\n",
    "    foodSource = FoodSource()\n",
    "    foodSource.clusters = image[np.random.randint(1, height*width, nClusters)]\n",
    "    foodSource.trials = 0\n",
    "    \n",
    "    foodSources.append(foodSource)\n",
    "\n",
    "# Defining GlobalBest\n",
    "globalBest = FoodSource()\n",
    "globalBest.fitnessValue = -MAXINT"
   ]
  },
  {
   "cell_type": "markdown",
   "id": "f5fc439e",
   "metadata": {},
   "source": [
    "## Running the Artifical Bee Colony for `maxEpochs`"
   ]
  },
  {
   "cell_type": "code",
   "execution_count": 7,
   "id": "19be9499",
   "metadata": {},
   "outputs": [
    {
     "name": "stdout",
     "output_type": "stream",
     "text": [
      "Epoch 0 ends ---------\n",
      "GlobalBest Fitness: 0.0012552746366853032\n",
      "\n",
      "Epoch 1 ends ---------\n",
      "GlobalBest Fitness: 0.0012655028209280126\n",
      "\n",
      "Epoch 2 ends ---------\n",
      "GlobalBest Fitness: 0.001266322811139339\n",
      "\n",
      "Epoch 3 ends ---------\n",
      "GlobalBest Fitness: 0.0012663628692385642\n",
      "\n",
      "Epoch 4 ends ---------\n",
      "GlobalBest Fitness: 0.001266388197981542\n",
      "\n",
      "Epoch 5 ends ---------\n",
      "GlobalBest Fitness: 0.0012664079308174392\n",
      "\n",
      "Epoch 6 ends ---------\n",
      "GlobalBest Fitness: 0.0012664079308174392\n",
      "\n",
      "Epoch 7 ends ---------\n",
      "GlobalBest Fitness: 0.0012664215981504764\n",
      "\n",
      "Epoch 8 ends ---------\n",
      "GlobalBest Fitness: 0.001266428894534961\n",
      "\n",
      "Epoch 9 ends ---------\n",
      "GlobalBest Fitness: 0.001266428894534961\n",
      "\n",
      "Epoch 10 ends ---------\n",
      "GlobalBest Fitness: 0.001266432533996214\n",
      "\n",
      "Epoch 11 ends ---------\n",
      "GlobalBest Fitness: 0.0012664340747017477\n",
      "\n",
      "Epoch 12 ends ---------\n",
      "GlobalBest Fitness: 0.0012664340747017477\n",
      "\n",
      "Epoch 13 ends ---------\n",
      "GlobalBest Fitness: 0.0012664340747017477\n",
      "\n",
      "Epoch 14 ends ---------\n",
      "GlobalBest Fitness: 0.0012664349314630181\n",
      "\n",
      "Epoch 15 ends ---------\n",
      "GlobalBest Fitness: 0.0012664351216123055\n",
      "\n",
      "Epoch 16 ends ---------\n",
      "GlobalBest Fitness: 0.0012664351900441384\n",
      "\n",
      "Epoch 17 ends ---------\n",
      "GlobalBest Fitness: 0.0012664351900441384\n",
      "\n",
      "Epoch 18 ends ---------\n",
      "GlobalBest Fitness: 0.0012664351900441386\n",
      "\n",
      "Epoch 19 ends ---------\n",
      "GlobalBest Fitness: 0.0012664351900441386\n",
      "\n"
     ]
    }
   ],
   "source": [
    "indices = set(range(len(foodSources)))\n",
    "\n",
    "for epoch in range(maxEpochs):\n",
    "    \n",
    "    # Employeed Bee Phase\n",
    "    for index, source in enumerate(foodSources):\n",
    "        \n",
    "        model = None\n",
    "        option = None\n",
    "        if pKmeans < np.random.uniform(0, 1):\n",
    "            model = KMeans(n_clusters = nClusters, n_init = 1, init = source.clusters, max_iter = 5)\n",
    "            option = 0\n",
    "        elif source.preds is None:\n",
    "            model = KMeans(n_clusters = nClusters, n_init = 1, init = source.clusters, max_iter = 5)\n",
    "            option = 1\n",
    "            \n",
    "        if option is not None:\n",
    "            model.fit(image)\n",
    "\n",
    "            source.preds = model.predict(image)\n",
    "            source.clusters = model.cluster_centers_\n",
    "            source.fitnessValue = source.fitness(image)\n",
    "\n",
    "        # Altering the current source to its neighbour\n",
    "        newSource = FoodSource()\n",
    "        newSource.clusters = source.clusters.copy()\n",
    "        newSource.trials = 0\n",
    "\n",
    "        phi = np.random.random()\n",
    "        j = np.random.randint(0, nClusters) # Random dimension\n",
    "        K = foodSources[np.random.choice(list(indices - {index}))] # Random source\n",
    "\n",
    "        newSource.clusters[j] = source.clusters[j] + phi*(source.clusters[j] - K.clusters[j])\n",
    "        \n",
    "        newModel = KMeans(n_clusters = nClusters, n_init = 1, init = newSource.clusters, max_iter = 1)\n",
    "        newModel.fit(image)\n",
    "        \n",
    "        newSource.preds = newModel.predict(image)\n",
    "        newSource.clusters = newModel.cluster_centers_\n",
    "        newSource.fitnessValue = newSource.fitness(image)\n",
    "        \n",
    "        if newSource.fitnessValue > source.fitnessValue:\n",
    "            foodSources[index] = newSource\n",
    "        else:\n",
    "            foodSources[index].trials += 1\n",
    "            \n",
    "        if foodSources[index].fitnessValue > globalBest.fitnessValue:\n",
    "            globalBest.fitnessValue = foodSources[index].fitnessValue\n",
    "            globalBest.preds = foodSources[index].preds\n",
    "            globalBest.clusters = foodSources[index].clusters\n",
    "    \n",
    "    \n",
    "    # Onlooker Bee Phase\n",
    "    probs = np.zeros(nfoodSources)\n",
    "    totalValue = 0\n",
    "    for i in range(nfoodSources):\n",
    "        totalValue = totalValue + foodSources[i].fitnessValue\n",
    "        probs[i] = foodSources[i].fitnessValue\n",
    "    probs = probs / totalValue\n",
    "        \n",
    "    for index, source in enumerate(foodSources):\n",
    "        if probs[index] < np.random.uniform(0, 1):\n",
    "            continue\n",
    "            \n",
    "        model = None\n",
    "        option = None\n",
    "        if pKmeans < np.random.uniform(0, 1):\n",
    "            model = KMeans(n_clusters = nClusters, n_init = 1, init = source.clusters, max_iter = 5)\n",
    "            option = 0\n",
    "        else:\n",
    "            model = KMeans(n_clusters = nClusters, n_init = 1, init = source.clusters, max_iter = 5)\n",
    "            option = 1\n",
    "         \n",
    "        if option is not None:\n",
    "            model.fit(image)\n",
    "\n",
    "            source.preds = model.predict(image)\n",
    "            source.clusters = model.cluster_centers_\n",
    "            source.fitnessValue = source.fitness(image)\n",
    "\n",
    "        # Altering the current source to its neighbour\n",
    "        newSource = FoodSource()\n",
    "        newSource.clusters = source.clusters.copy()\n",
    "        newSource.trials = 0\n",
    "\n",
    "        phi = np.random.random()\n",
    "        j = np.random.randint(0, nClusters) # Random dimension\n",
    "        K = foodSources[np.random.choice(list(indices - {index}))] # Random source\n",
    "\n",
    "        newSource.clusters[j] = source.clusters[j] + phi*(source.clusters[j] - K.clusters[j])\n",
    "        \n",
    "        newModel = KMeans(n_clusters = nClusters, n_init = 1, init = newSource.clusters, max_iter = 1)\n",
    "        newModel.fit(image)\n",
    "        \n",
    "        newSource.preds = newModel.predict(image)\n",
    "        newSource.clusters = newModel.cluster_centers_\n",
    "        newSource.fitnessValue = newSource.fitness(image)\n",
    "        \n",
    "        if newSource.fitnessValue > source.fitnessValue:\n",
    "            foodSources[index] = newSource\n",
    "        else:\n",
    "            foodSources[index].trials += 1\n",
    "            \n",
    "        if foodSources[index].fitnessValue > globalBest.fitnessValue:\n",
    "            globalBest.fitnessValue = foodSources[index].fitnessValue\n",
    "            globalBest.preds = foodSources[index].preds\n",
    "            globalBest.clusters = foodSources[index].clusters\n",
    "            \n",
    "    # Scout Bee Phase\n",
    "    for index, source in enumerate(foodSources):\n",
    "        if source.trials > limit:\n",
    "            newSource = FoodSource()\n",
    "            newSource.trials = 0\n",
    "            newSource.clusters = np.random.uniform(0, 1, (nClusters, 3))\n",
    "            \n",
    "    print(\"Epoch %s ends ---------\" % (epoch))\n",
    "    print(\"GlobalBest Fitness: %s\" % (globalBest.fitnessValue))\n",
    "    print()\n",
    "        \n",
    "    "
   ]
  },
  {
   "cell_type": "code",
   "execution_count": 8,
   "id": "59ece35c",
   "metadata": {},
   "outputs": [
    {
     "data": {
      "text/plain": [
       "<matplotlib.image.AxesImage at 0x13b9186d0>"
      ]
     },
     "execution_count": 8,
     "metadata": {},
     "output_type": "execute_result"
    },
    {
     "data": {
      "image/png": "[encoded data removed]",
      "text/plain": [
       "<Figure size 432x288 with 1 Axes>"
      ]
     },
     "metadata": {
      "needs_background": "light"
     },
     "output_type": "display_data"
    }
   ],
   "source": [
    "plt.imshow(globalBest.reconstruct())"
   ]
  },
  {
   "cell_type": "code",
   "execution_count": 9,
   "id": "8087b949",
   "metadata": {},
   "outputs": [
    {
     "data": {
      "text/plain": [
       "(8, 3)"
      ]
     },
     "execution_count": 9,
     "metadata": {},
     "output_type": "execute_result"
    }
   ],
   "source": [
    "clusters = globalBest.clusters\n",
    "clusters.shape"
   ]
  },
  {
   "cell_type": "code",
   "execution_count": null,
   "id": "b6c6db5f",
   "metadata": {},
   "outputs": [],
   "source": []
  }
 ],
 "metadata": {
  "kernelspec": {
   "display_name": "Python 3 (ipykernel)",
   "language": "python",
   "name": "python3"
  },
  "language_info": {
   "codemirror_mode": {
    "name": "ipython",
    "version": 3
   },
   "file_extension": ".py",
   "mimetype": "text/x-python",
   "name": "python",
   "nbconvert_exporter": "python",
   "pygments_lexer": "ipython3",
   "version": "3.9.13"
  }
 },
 "nbformat": 4,
 "nbformat_minor": 5
}
